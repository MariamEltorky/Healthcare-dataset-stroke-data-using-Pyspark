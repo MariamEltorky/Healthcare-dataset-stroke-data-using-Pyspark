{
  "cells": [
    {
      "cell_type": "markdown",
      "metadata": {
        "id": "e31bc851"
      },
      "source": [
        "### Create a spark session and import the required libraries"
      ],
      "id": "e31bc851"
    },
    {
      "cell_type": "code",
      "execution_count": 1,
      "metadata": {
        "id": "8VgEePd0nv4p",
        "colab": {
          "base_uri": "https://localhost:8080/"
        },
        "outputId": "7c800fc6-abc3-40aa-c549-0f38f3b2ee99"
      },
      "outputs": [
        {
          "output_type": "stream",
          "name": "stdout",
          "text": [
            "Looking in indexes: https://pypi.org/simple, https://us-python.pkg.dev/colab-wheels/public/simple/\n",
            "Collecting pyspark\n",
            "  Downloading pyspark-3.3.0.tar.gz (281.3 MB)\n",
            "\u001b[K     |████████████████████████████████| 281.3 MB 43 kB/s \n",
            "\u001b[?25hCollecting py4j==0.10.9.5\n",
            "  Downloading py4j-0.10.9.5-py2.py3-none-any.whl (199 kB)\n",
            "\u001b[K     |████████████████████████████████| 199 kB 44.0 MB/s \n",
            "\u001b[?25hBuilding wheels for collected packages: pyspark\n",
            "  Building wheel for pyspark (setup.py) ... \u001b[?25l\u001b[?25hdone\n",
            "  Created wheel for pyspark: filename=pyspark-3.3.0-py2.py3-none-any.whl size=281764026 sha256=d2e722d81119dd7b2119b77265bb8b82a69a5d533b74689eea98672c091003bf\n",
            "  Stored in directory: /root/.cache/pip/wheels/7a/8e/1b/f73a52650d2e5f337708d9f6a1750d451a7349a867f928b885\n",
            "Successfully built pyspark\n",
            "Installing collected packages: py4j, pyspark\n",
            "Successfully installed py4j-0.10.9.5 pyspark-3.3.0\n"
          ]
        }
      ],
      "source": [
        "! pip install pyspark"
      ],
      "id": "8VgEePd0nv4p"
    },
    {
      "cell_type": "code",
      "execution_count": 1,
      "metadata": {
        "id": "ab3ba311"
      },
      "outputs": [],
      "source": [
        "from pyspark.sql import SparkSession"
      ],
      "id": "ab3ba311"
    },
    {
      "cell_type": "code",
      "source": [
        "spark = (SparkSession.builder.getOrCreate())"
      ],
      "metadata": {
        "id": "2qrTF2yWUuKu"
      },
      "id": "2qrTF2yWUuKu",
      "execution_count": 2,
      "outputs": []
    },
    {
      "cell_type": "markdown",
      "metadata": {
        "id": "843b8468"
      },
      "source": [
        "### Create a data schema programatically"
      ],
      "id": "843b8468"
    },
    {
      "cell_type": "code",
      "execution_count": 3,
      "metadata": {
        "id": "8616fe16"
      },
      "outputs": [],
      "source": [
        "from pyspark.sql.types import *\n",
        "schema = StructType([StructField('id',IntegerType(),True),\n",
        "                    StructField(\"gender\", StringType(), True),\n",
        "                    StructField(\"age\", DoubleType(), True),\n",
        "                     StructField(\"hypertension\", IntegerType(), True),\n",
        "                     StructField(\"heart_disease\", IntegerType(), True),\n",
        "                     StructField(\"ever_married\", StringType(), True),\n",
        "                     StructField(\"work_type\", StringType(), True),\n",
        "                     StructField(\"Residence_type\", StringType(), True),\n",
        "                     StructField(\"avg_glucose_level\", DoubleType(), True),\n",
        "                     StructField(\"bmi\", DoubleType(), True),\n",
        "                     StructField(\"smoking_status\", StringType(), True),\n",
        "                     StructField(\"stroke\", IntegerType(), True)])"
      ],
      "id": "8616fe16"
    },
    {
      "cell_type": "markdown",
      "metadata": {
        "id": "2d00718f"
      },
      "source": [
        "### Read the data using the standard DataReader (Key,Value) pairs format\n",
        "- Provide the schema and any other required options."
      ],
      "id": "2d00718f"
    },
    {
      "cell_type": "code",
      "execution_count": 4,
      "metadata": {
        "id": "61fcc4cd"
      },
      "outputs": [],
      "source": [
        "df=spark.read.csv(\"/content/healthcare-dataset-stroke-data.csv\",schema=schema,header=True)"
      ],
      "id": "61fcc4cd"
    },
    {
      "cell_type": "markdown",
      "metadata": {
        "id": "974bc193"
      },
      "source": [
        "### Explore the data \n",
        "#### You have to do the following:\n",
        "- Print the Schema.\n",
        "- Show the first 10 rows from the data.\n",
        "- Explore null values and show how many null values in each column.\n",
        "- Plot a count plot for the target label and <b>notice the graph</b>.\n",
        "- Perform any additional EDA you find useful."
      ],
      "id": "974bc193"
    },
    {
      "cell_type": "code",
      "execution_count": 5,
      "metadata": {
        "colab": {
          "base_uri": "https://localhost:8080/"
        },
        "id": "353b6f34",
        "outputId": "d894b0f7-ce43-49ab-9af6-80135430bbe3"
      },
      "outputs": [
        {
          "output_type": "stream",
          "name": "stdout",
          "text": [
            "root\n",
            " |-- id: integer (nullable = true)\n",
            " |-- gender: string (nullable = true)\n",
            " |-- age: double (nullable = true)\n",
            " |-- hypertension: integer (nullable = true)\n",
            " |-- heart_disease: integer (nullable = true)\n",
            " |-- ever_married: string (nullable = true)\n",
            " |-- work_type: string (nullable = true)\n",
            " |-- Residence_type: string (nullable = true)\n",
            " |-- avg_glucose_level: double (nullable = true)\n",
            " |-- bmi: double (nullable = true)\n",
            " |-- smoking_status: string (nullable = true)\n",
            " |-- stroke: integer (nullable = true)\n",
            "\n"
          ]
        }
      ],
      "source": [
        "df.printSchema()"
      ],
      "id": "353b6f34"
    },
    {
      "cell_type": "code",
      "execution_count": 6,
      "metadata": {
        "colab": {
          "base_uri": "https://localhost:8080/"
        },
        "id": "uvZfhNx5sUo4",
        "outputId": "cb9b6493-9f16-4773-ed13-661500b2a2f1"
      },
      "outputs": [
        {
          "output_type": "stream",
          "name": "stdout",
          "text": [
            "+-----+------+----+------------+-------------+------------+-------------+--------------+-----------------+----+---------------+------+\n",
            "|   id|gender| age|hypertension|heart_disease|ever_married|    work_type|Residence_type|avg_glucose_level| bmi| smoking_status|stroke|\n",
            "+-----+------+----+------------+-------------+------------+-------------+--------------+-----------------+----+---------------+------+\n",
            "| 9046|  Male|67.0|           0|            1|         Yes|      Private|         Urban|           228.69|36.6|formerly smoked|     1|\n",
            "|51676|Female|61.0|           0|            0|         Yes|Self-employed|         Rural|           202.21|null|   never smoked|     1|\n",
            "|31112|  Male|80.0|           0|            1|         Yes|      Private|         Rural|           105.92|32.5|   never smoked|     1|\n",
            "|60182|Female|49.0|           0|            0|         Yes|      Private|         Urban|           171.23|34.4|         smokes|     1|\n",
            "| 1665|Female|79.0|           1|            0|         Yes|Self-employed|         Rural|           174.12|24.0|   never smoked|     1|\n",
            "|56669|  Male|81.0|           0|            0|         Yes|      Private|         Urban|           186.21|29.0|formerly smoked|     1|\n",
            "|53882|  Male|74.0|           1|            1|         Yes|      Private|         Rural|            70.09|27.4|   never smoked|     1|\n",
            "|10434|Female|69.0|           0|            0|          No|      Private|         Urban|            94.39|22.8|   never smoked|     1|\n",
            "|27419|Female|59.0|           0|            0|         Yes|      Private|         Rural|            76.15|null|        Unknown|     1|\n",
            "|60491|Female|78.0|           0|            0|         Yes|      Private|         Urban|            58.57|24.2|        Unknown|     1|\n",
            "+-----+------+----+------------+-------------+------------+-------------+--------------+-----------------+----+---------------+------+\n",
            "only showing top 10 rows\n",
            "\n"
          ]
        }
      ],
      "source": [
        "df.show(10)"
      ],
      "id": "uvZfhNx5sUo4"
    },
    {
      "cell_type": "code",
      "execution_count": 7,
      "metadata": {
        "colab": {
          "base_uri": "https://localhost:8080/"
        },
        "id": "6La_f0bjsyc0",
        "outputId": "10a9df65-502b-468d-a095-42110a43a4bd"
      },
      "outputs": [
        {
          "output_type": "stream",
          "name": "stdout",
          "text": [
            "+---+------+---+------------+-------------+------------+---------+--------------+-----------------+---+--------------+------+\n",
            "| id|gender|age|hypertension|heart_disease|ever_married|work_type|Residence_type|avg_glucose_level|bmi|smoking_status|stroke|\n",
            "+---+------+---+------------+-------------+------------+---------+--------------+-----------------+---+--------------+------+\n",
            "|  0|     0|  0|           0|            0|           0|        0|             0|                0|201|             0|     0|\n",
            "+---+------+---+------------+-------------+------------+---------+--------------+-----------------+---+--------------+------+\n",
            "\n"
          ]
        }
      ],
      "source": [
        "from pyspark.sql.functions import isnan, when, count, col\n",
        "\n",
        "df.select([count(when(isnan(c) | col(c).isNull(), c)).alias(c) for c in df.columns]).show()"
      ],
      "id": "6La_f0bjsyc0"
    },
    {
      "cell_type": "code",
      "execution_count": 8,
      "metadata": {
        "colab": {
          "base_uri": "https://localhost:8080/"
        },
        "id": "LwPOSHoYtv_a",
        "outputId": "42423538-fbb7-48bd-b2a1-67f663ae4f39"
      },
      "outputs": [
        {
          "output_type": "stream",
          "name": "stdout",
          "text": [
            "+------+-----+\n",
            "|stroke|count|\n",
            "+------+-----+\n",
            "|     1|  249|\n",
            "|     0| 4861|\n",
            "+------+-----+\n",
            "\n"
          ]
        }
      ],
      "source": [
        "df.select('stroke').groupBy('stroke').count().show()"
      ],
      "id": "LwPOSHoYtv_a"
    },
    {
      "cell_type": "code",
      "execution_count": 9,
      "metadata": {
        "colab": {
          "base_uri": "https://localhost:8080/",
          "height": 351
        },
        "id": "8Tyjf_qJsx92",
        "outputId": "655f7a2c-aad2-44a7-9314-89d6501d99bf"
      },
      "outputs": [
        {
          "output_type": "stream",
          "name": "stderr",
          "text": [
            "/usr/local/lib/python3.7/dist-packages/seaborn/_decorators.py:43: FutureWarning: Pass the following variable as a keyword arg: x. From version 0.12, the only valid positional argument will be `data`, and passing other arguments without an explicit keyword will result in an error or misinterpretation.\n",
            "  FutureWarning\n"
          ]
        },
        {
          "output_type": "execute_result",
          "data": {
            "text/plain": [
              "<matplotlib.axes._subplots.AxesSubplot at 0x7fedd48aec90>"
            ]
          },
          "metadata": {},
          "execution_count": 9
        },
        {
          "output_type": "display_data",
          "data": {
            "text/plain": [
              "<Figure size 432x288 with 1 Axes>"
            ],
            "image/png": "[encoded data removed]"
          },
          "metadata": {
            "needs_background": "light"
          }
        }
      ],
      "source": [
        "import seaborn as sns\n",
        "sns.countplot(df.select('stroke').toPandas()['stroke'])"
      ],
      "id": "8Tyjf_qJsx92"
    },
    {
      "cell_type": "code",
      "source": [
        "## Data is Highly Imbalanced"
      ],
      "metadata": {
        "id": "FcyPd7OGXP3-"
      },
      "id": "FcyPd7OGXP3-",
      "execution_count": 10,
      "outputs": []
    },
    {
      "cell_type": "markdown",
      "metadata": {
        "id": "5nvmjcVGvNUE"
      },
      "source": [
        "### Data is Highly Imbalanced"
      ],
      "id": "5nvmjcVGvNUE"
    },
    {
      "cell_type": "code",
      "execution_count": 11,
      "metadata": {
        "colab": {
          "base_uri": "https://localhost:8080/",
          "height": 351
        },
        "id": "6fb198f0",
        "outputId": "306a0375-fe03-4c40-ae25-ce46da97cdcf"
      },
      "outputs": [
        {
          "output_type": "stream",
          "name": "stderr",
          "text": [
            "/usr/local/lib/python3.7/dist-packages/seaborn/distributions.py:2619: FutureWarning: `distplot` is a deprecated function and will be removed in a future version. Please adapt your code to use either `displot` (a figure-level function with similar flexibility) or `histplot` (an axes-level function for histograms).\n",
            "  warnings.warn(msg, FutureWarning)\n"
          ]
        },
        {
          "output_type": "execute_result",
          "data": {
            "text/plain": [
              "<matplotlib.axes._subplots.AxesSubplot at 0x7fedd4231750>"
            ]
          },
          "metadata": {},
          "execution_count": 11
        },
        {
          "output_type": "display_data",
          "data": {
            "text/plain": [
              "<Figure size 432x288 with 1 Axes>"
            ],
            "image/png": "[encoded data removed]"
          },
          "metadata": {
            "needs_background": "light"
          }
        }
      ],
      "source": [
        "sns.distplot(df.select('bmi').toPandas()['bmi'],bins=50)"
      ],
      "id": "6fb198f0"
    },
    {
      "cell_type": "code",
      "execution_count": 12,
      "metadata": {
        "id": "mLSmCsCLJq2Y"
      },
      "outputs": [],
      "source": [
        "#bmi columns has outliers"
      ],
      "id": "mLSmCsCLJq2Y"
    },
    {
      "cell_type": "markdown",
      "metadata": {
        "id": "59b770cb"
      },
      "source": [
        "### Get the summary statistics of the age column\n",
        "- You will find the minimum age is about <b>0.08</b>.\n",
        "- Remove rows for the age below <b>2 years old</b>."
      ],
      "id": "59b770cb"
    },
    {
      "cell_type": "code",
      "execution_count": 13,
      "metadata": {
        "colab": {
          "base_uri": "https://localhost:8080/"
        },
        "id": "ed40fb11",
        "outputId": "fb796eb2-91f6-4fbc-ebd1-30e6e99fd0d5",
        "scrolled": false
      },
      "outputs": [
        {
          "output_type": "stream",
          "name": "stdout",
          "text": [
            "+-------+------------------+\n",
            "|summary|               age|\n",
            "+-------+------------------+\n",
            "|  count|              5110|\n",
            "|   mean|43.226614481409015|\n",
            "| stddev| 22.61264672311348|\n",
            "|    min|              0.08|\n",
            "|    max|              82.0|\n",
            "+-------+------------------+\n",
            "\n"
          ]
        }
      ],
      "source": [
        "df.select('age').describe().show()"
      ],
      "id": "ed40fb11"
    },
    {
      "cell_type": "code",
      "execution_count": 14,
      "metadata": {
        "id": "cc99c0be"
      },
      "outputs": [],
      "source": [
        "df = df.filter('age >= 2')"
      ],
      "id": "cc99c0be"
    },
    {
      "cell_type": "code",
      "source": [
        "df.show()"
      ],
      "metadata": {
        "colab": {
          "base_uri": "https://localhost:8080/"
        },
        "id": "27im8yEMYkZ0",
        "outputId": "2f0c61a8-a07d-459b-b432-5e7f7df37d0f"
      },
      "id": "27im8yEMYkZ0",
      "execution_count": 15,
      "outputs": [
        {
          "output_type": "stream",
          "name": "stdout",
          "text": [
            "+-----+------+----+------------+-------------+------------+-------------+--------------+-----------------+----+---------------+------+\n",
            "|   id|gender| age|hypertension|heart_disease|ever_married|    work_type|Residence_type|avg_glucose_level| bmi| smoking_status|stroke|\n",
            "+-----+------+----+------------+-------------+------------+-------------+--------------+-----------------+----+---------------+------+\n",
            "| 9046|  Male|67.0|           0|            1|         Yes|      Private|         Urban|           228.69|36.6|formerly smoked|     1|\n",
            "|51676|Female|61.0|           0|            0|         Yes|Self-employed|         Rural|           202.21|null|   never smoked|     1|\n",
            "|31112|  Male|80.0|           0|            1|         Yes|      Private|         Rural|           105.92|32.5|   never smoked|     1|\n",
            "|60182|Female|49.0|           0|            0|         Yes|      Private|         Urban|           171.23|34.4|         smokes|     1|\n",
            "| 1665|Female|79.0|           1|            0|         Yes|Self-employed|         Rural|           174.12|24.0|   never smoked|     1|\n",
            "|56669|  Male|81.0|           0|            0|         Yes|      Private|         Urban|           186.21|29.0|formerly smoked|     1|\n",
            "|53882|  Male|74.0|           1|            1|         Yes|      Private|         Rural|            70.09|27.4|   never smoked|     1|\n",
            "|10434|Female|69.0|           0|            0|          No|      Private|         Urban|            94.39|22.8|   never smoked|     1|\n",
            "|27419|Female|59.0|           0|            0|         Yes|      Private|         Rural|            76.15|null|        Unknown|     1|\n",
            "|60491|Female|78.0|           0|            0|         Yes|      Private|         Urban|            58.57|24.2|        Unknown|     1|\n",
            "|12109|Female|81.0|           1|            0|         Yes|      Private|         Rural|            80.43|29.7|   never smoked|     1|\n",
            "|12095|Female|61.0|           0|            1|         Yes|     Govt_job|         Rural|           120.46|36.8|         smokes|     1|\n",
            "|12175|Female|54.0|           0|            0|         Yes|      Private|         Urban|           104.51|27.3|         smokes|     1|\n",
            "| 8213|  Male|78.0|           0|            1|         Yes|      Private|         Urban|           219.84|null|        Unknown|     1|\n",
            "| 5317|Female|79.0|           0|            1|         Yes|      Private|         Urban|           214.09|28.2|   never smoked|     1|\n",
            "|58202|Female|50.0|           1|            0|         Yes|Self-employed|         Rural|           167.41|30.9|   never smoked|     1|\n",
            "|56112|  Male|64.0|           0|            1|         Yes|      Private|         Urban|           191.61|37.5|         smokes|     1|\n",
            "|34120|  Male|75.0|           1|            0|         Yes|      Private|         Urban|           221.29|25.8|         smokes|     1|\n",
            "|27458|Female|60.0|           0|            0|          No|      Private|         Urban|            89.22|37.8|   never smoked|     1|\n",
            "|25226|  Male|57.0|           0|            1|          No|     Govt_job|         Urban|           217.08|null|        Unknown|     1|\n",
            "+-----+------+----+------------+-------------+------------+-------------+--------------+-----------------+----+---------------+------+\n",
            "only showing top 20 rows\n",
            "\n"
          ]
        }
      ]
    },
    {
      "cell_type": "markdown",
      "metadata": {
        "id": "bf8c9498"
      },
      "source": [
        "### Working with gender & smoking_status columns:\n",
        "- Select and show the gender & smoking_status columns\n",
        "- Get the distinct values for each column."
      ],
      "id": "bf8c9498"
    },
    {
      "cell_type": "code",
      "execution_count": 16,
      "metadata": {
        "colab": {
          "base_uri": "https://localhost:8080/"
        },
        "id": "925a5ecd",
        "outputId": "deb9a031-df76-41ce-cac3-8c9b57c04b8f"
      },
      "outputs": [
        {
          "output_type": "stream",
          "name": "stdout",
          "text": [
            "+------+---------------+\n",
            "|gender| smoking_status|\n",
            "+------+---------------+\n",
            "|  Male|formerly smoked|\n",
            "|Female|   never smoked|\n",
            "|  Male|   never smoked|\n",
            "|Female|         smokes|\n",
            "|Female|   never smoked|\n",
            "|  Male|formerly smoked|\n",
            "|  Male|   never smoked|\n",
            "|Female|   never smoked|\n",
            "|Female|        Unknown|\n",
            "|Female|        Unknown|\n",
            "|Female|   never smoked|\n",
            "|Female|         smokes|\n",
            "|Female|         smokes|\n",
            "|  Male|        Unknown|\n",
            "|Female|   never smoked|\n",
            "|Female|   never smoked|\n",
            "|  Male|         smokes|\n",
            "|  Male|         smokes|\n",
            "|Female|   never smoked|\n",
            "|  Male|        Unknown|\n",
            "+------+---------------+\n",
            "only showing top 20 rows\n",
            "\n"
          ]
        }
      ],
      "source": [
        "df.select('gender','smoking_status').show()"
      ],
      "id": "925a5ecd"
    },
    {
      "cell_type": "code",
      "source": [
        "df.select('gender').distinct().show()"
      ],
      "metadata": {
        "colab": {
          "base_uri": "https://localhost:8080/"
        },
        "id": "N4D0oevqYzuK",
        "outputId": "ca10b9ab-eb46-4469-c4ff-63bbde345d5b"
      },
      "id": "N4D0oevqYzuK",
      "execution_count": 17,
      "outputs": [
        {
          "output_type": "stream",
          "name": "stdout",
          "text": [
            "+------+\n",
            "|gender|\n",
            "+------+\n",
            "|Female|\n",
            "| Other|\n",
            "|  Male|\n",
            "+------+\n",
            "\n"
          ]
        }
      ]
    },
    {
      "cell_type": "code",
      "execution_count": 18,
      "metadata": {
        "colab": {
          "base_uri": "https://localhost:8080/"
        },
        "id": "9dfe35a4",
        "outputId": "20c87aa6-4074-498f-d3ab-b9d527ba35a1"
      },
      "outputs": [
        {
          "output_type": "stream",
          "name": "stdout",
          "text": [
            "+---------------+\n",
            "| smoking_status|\n",
            "+---------------+\n",
            "|         smokes|\n",
            "|        Unknown|\n",
            "|   never smoked|\n",
            "|formerly smoked|\n",
            "+---------------+\n",
            "\n"
          ]
        }
      ],
      "source": [
        "df.select('smoking_status').distinct().show()"
      ],
      "id": "9dfe35a4"
    },
    {
      "cell_type": "markdown",
      "metadata": {
        "id": "850bdfe1"
      },
      "source": [
        "#### Change the string values of the columns into numerical values as follow:\n",
        "1. Gender column:\n",
        "    * Male = 1 \n",
        "    * Female = 0 \n",
        "    * Other = 0 \n",
        "2. Smoking Status column:\n",
        "  * never smoked = 0\n",
        "  * Unknown = 0.5\n",
        "  * formerly smoked = 0.75\n",
        "  * smokes = 1.0\n"
      ],
      "id": "850bdfe1"
    },
    {
      "cell_type": "code",
      "execution_count": 19,
      "metadata": {
        "id": "355f2ef0"
      },
      "outputs": [],
      "source": [
        "df = df.withColumn(\"gender\", when(col(\"gender\") == \"Male\",1).otherwise(0))"
      ],
      "id": "355f2ef0"
    },
    {
      "cell_type": "code",
      "execution_count": 20,
      "metadata": {
        "id": "57y6FGV4yrcI",
        "colab": {
          "base_uri": "https://localhost:8080/"
        },
        "outputId": "37cc5926-d045-4316-9448-8d617ec4da0b"
      },
      "outputs": [
        {
          "output_type": "stream",
          "name": "stdout",
          "text": [
            "+-----+------+----+------------+-------------+------------+-------------+--------------+-----------------+----+---------------+------+\n",
            "|   id|gender| age|hypertension|heart_disease|ever_married|    work_type|Residence_type|avg_glucose_level| bmi| smoking_status|stroke|\n",
            "+-----+------+----+------------+-------------+------------+-------------+--------------+-----------------+----+---------------+------+\n",
            "| 9046|     1|67.0|           0|            1|         Yes|      Private|         Urban|           228.69|36.6|formerly smoked|     1|\n",
            "|51676|     0|61.0|           0|            0|         Yes|Self-employed|         Rural|           202.21|null|   never smoked|     1|\n",
            "|31112|     1|80.0|           0|            1|         Yes|      Private|         Rural|           105.92|32.5|   never smoked|     1|\n",
            "|60182|     0|49.0|           0|            0|         Yes|      Private|         Urban|           171.23|34.4|         smokes|     1|\n",
            "| 1665|     0|79.0|           1|            0|         Yes|Self-employed|         Rural|           174.12|24.0|   never smoked|     1|\n",
            "|56669|     1|81.0|           0|            0|         Yes|      Private|         Urban|           186.21|29.0|formerly smoked|     1|\n",
            "|53882|     1|74.0|           1|            1|         Yes|      Private|         Rural|            70.09|27.4|   never smoked|     1|\n",
            "|10434|     0|69.0|           0|            0|          No|      Private|         Urban|            94.39|22.8|   never smoked|     1|\n",
            "|27419|     0|59.0|           0|            0|         Yes|      Private|         Rural|            76.15|null|        Unknown|     1|\n",
            "|60491|     0|78.0|           0|            0|         Yes|      Private|         Urban|            58.57|24.2|        Unknown|     1|\n",
            "|12109|     0|81.0|           1|            0|         Yes|      Private|         Rural|            80.43|29.7|   never smoked|     1|\n",
            "|12095|     0|61.0|           0|            1|         Yes|     Govt_job|         Rural|           120.46|36.8|         smokes|     1|\n",
            "|12175|     0|54.0|           0|            0|         Yes|      Private|         Urban|           104.51|27.3|         smokes|     1|\n",
            "| 8213|     1|78.0|           0|            1|         Yes|      Private|         Urban|           219.84|null|        Unknown|     1|\n",
            "| 5317|     0|79.0|           0|            1|         Yes|      Private|         Urban|           214.09|28.2|   never smoked|     1|\n",
            "|58202|     0|50.0|           1|            0|         Yes|Self-employed|         Rural|           167.41|30.9|   never smoked|     1|\n",
            "|56112|     1|64.0|           0|            1|         Yes|      Private|         Urban|           191.61|37.5|         smokes|     1|\n",
            "|34120|     1|75.0|           1|            0|         Yes|      Private|         Urban|           221.29|25.8|         smokes|     1|\n",
            "|27458|     0|60.0|           0|            0|          No|      Private|         Urban|            89.22|37.8|   never smoked|     1|\n",
            "|25226|     1|57.0|           0|            1|          No|     Govt_job|         Urban|           217.08|null|        Unknown|     1|\n",
            "+-----+------+----+------------+-------------+------------+-------------+--------------+-----------------+----+---------------+------+\n",
            "only showing top 20 rows\n",
            "\n"
          ]
        }
      ],
      "source": [
        "df.show()"
      ],
      "id": "57y6FGV4yrcI"
    },
    {
      "cell_type": "code",
      "source": [
        "df = df.withColumn(\"smoking_status\", when(col(\"smoking_status\") == \"never smoked\",0) \\\n",
        "                   .when(col(\"smoking_status\") == \"Unknown\",0.5) \\\n",
        "                   .when(col(\"smoking_status\") == \"formerly smoked\",0.75)\\\n",
        "                   .when(col(\"smoking_status\") == \"smokes\",1.0)) "
      ],
      "metadata": {
        "id": "x4nrJAdyZd3y"
      },
      "id": "x4nrJAdyZd3y",
      "execution_count": 21,
      "outputs": []
    },
    {
      "cell_type": "code",
      "source": [
        "df.show()"
      ],
      "metadata": {
        "colab": {
          "base_uri": "https://localhost:8080/"
        },
        "id": "XDIeYk5Xab8O",
        "outputId": "a706d9f0-b118-4de5-f936-176881bbe1ec"
      },
      "id": "XDIeYk5Xab8O",
      "execution_count": 22,
      "outputs": [
        {
          "output_type": "stream",
          "name": "stdout",
          "text": [
            "+-----+------+----+------------+-------------+------------+-------------+--------------+-----------------+----+--------------+------+\n",
            "|   id|gender| age|hypertension|heart_disease|ever_married|    work_type|Residence_type|avg_glucose_level| bmi|smoking_status|stroke|\n",
            "+-----+------+----+------------+-------------+------------+-------------+--------------+-----------------+----+--------------+------+\n",
            "| 9046|     1|67.0|           0|            1|         Yes|      Private|         Urban|           228.69|36.6|          0.75|     1|\n",
            "|51676|     0|61.0|           0|            0|         Yes|Self-employed|         Rural|           202.21|null|           0.0|     1|\n",
            "|31112|     1|80.0|           0|            1|         Yes|      Private|         Rural|           105.92|32.5|           0.0|     1|\n",
            "|60182|     0|49.0|           0|            0|         Yes|      Private|         Urban|           171.23|34.4|           1.0|     1|\n",
            "| 1665|     0|79.0|           1|            0|         Yes|Self-employed|         Rural|           174.12|24.0|           0.0|     1|\n",
            "|56669|     1|81.0|           0|            0|         Yes|      Private|         Urban|           186.21|29.0|          0.75|     1|\n",
            "|53882|     1|74.0|           1|            1|         Yes|      Private|         Rural|            70.09|27.4|           0.0|     1|\n",
            "|10434|     0|69.0|           0|            0|          No|      Private|         Urban|            94.39|22.8|           0.0|     1|\n",
            "|27419|     0|59.0|           0|            0|         Yes|      Private|         Rural|            76.15|null|           0.5|     1|\n",
            "|60491|     0|78.0|           0|            0|         Yes|      Private|         Urban|            58.57|24.2|           0.5|     1|\n",
            "|12109|     0|81.0|           1|            0|         Yes|      Private|         Rural|            80.43|29.7|           0.0|     1|\n",
            "|12095|     0|61.0|           0|            1|         Yes|     Govt_job|         Rural|           120.46|36.8|           1.0|     1|\n",
            "|12175|     0|54.0|           0|            0|         Yes|      Private|         Urban|           104.51|27.3|           1.0|     1|\n",
            "| 8213|     1|78.0|           0|            1|         Yes|      Private|         Urban|           219.84|null|           0.5|     1|\n",
            "| 5317|     0|79.0|           0|            1|         Yes|      Private|         Urban|           214.09|28.2|           0.0|     1|\n",
            "|58202|     0|50.0|           1|            0|         Yes|Self-employed|         Rural|           167.41|30.9|           0.0|     1|\n",
            "|56112|     1|64.0|           0|            1|         Yes|      Private|         Urban|           191.61|37.5|           1.0|     1|\n",
            "|34120|     1|75.0|           1|            0|         Yes|      Private|         Urban|           221.29|25.8|           1.0|     1|\n",
            "|27458|     0|60.0|           0|            0|          No|      Private|         Urban|            89.22|37.8|           0.0|     1|\n",
            "|25226|     1|57.0|           0|            1|          No|     Govt_job|         Urban|           217.08|null|           0.5|     1|\n",
            "+-----+------+----+------------+-------------+------------+-------------+--------------+-----------------+----+--------------+------+\n",
            "only showing top 20 rows\n",
            "\n"
          ]
        }
      ]
    },
    {
      "cell_type": "code",
      "source": [
        "df = df.withColumn(\"gender\",col(\"gender\").cast(IntegerType()))\n",
        "df = df.withColumn(\"smoking_status\",col(\"smoking_status\").cast(DoubleType()))\n",
        "df.printSchema()"
      ],
      "metadata": {
        "colab": {
          "base_uri": "https://localhost:8080/"
        },
        "id": "KRfO8OURapM9",
        "outputId": "5a276bbe-6a75-46d0-8010-dcd64d96cb16"
      },
      "id": "KRfO8OURapM9",
      "execution_count": 23,
      "outputs": [
        {
          "output_type": "stream",
          "name": "stdout",
          "text": [
            "root\n",
            " |-- id: integer (nullable = true)\n",
            " |-- gender: integer (nullable = false)\n",
            " |-- age: double (nullable = true)\n",
            " |-- hypertension: integer (nullable = true)\n",
            " |-- heart_disease: integer (nullable = true)\n",
            " |-- ever_married: string (nullable = true)\n",
            " |-- work_type: string (nullable = true)\n",
            " |-- Residence_type: string (nullable = true)\n",
            " |-- avg_glucose_level: double (nullable = true)\n",
            " |-- bmi: double (nullable = true)\n",
            " |-- smoking_status: double (nullable = true)\n",
            " |-- stroke: integer (nullable = true)\n",
            "\n"
          ]
        }
      ]
    },
    {
      "cell_type": "markdown",
      "metadata": {
        "id": "3da38a31"
      },
      "source": [
        "#### Show the output DataFrame\n",
        "- Select and show the gender & smoking_status columns after value changing.\n",
        "- Print schema for the new dataframe."
      ],
      "id": "3da38a31"
    },
    {
      "cell_type": "code",
      "execution_count": 24,
      "metadata": {
        "colab": {
          "base_uri": "https://localhost:8080/"
        },
        "id": "CtOAzFAAz5uJ",
        "outputId": "a348e4ea-9aa8-41c9-f31d-04f2251bbd95"
      },
      "outputs": [
        {
          "output_type": "stream",
          "name": "stdout",
          "text": [
            "+------+--------------+\n",
            "|gender|smoking_status|\n",
            "+------+--------------+\n",
            "|     1|          0.75|\n",
            "|     0|           0.0|\n",
            "|     1|           0.0|\n",
            "|     0|           1.0|\n",
            "|     0|           0.0|\n",
            "|     1|          0.75|\n",
            "|     1|           0.0|\n",
            "|     0|           0.0|\n",
            "|     0|           0.5|\n",
            "|     0|           0.5|\n",
            "|     0|           0.0|\n",
            "|     0|           1.0|\n",
            "|     0|           1.0|\n",
            "|     1|           0.5|\n",
            "|     0|           0.0|\n",
            "|     0|           0.0|\n",
            "|     1|           1.0|\n",
            "|     1|           1.0|\n",
            "|     0|           0.0|\n",
            "|     1|           0.5|\n",
            "+------+--------------+\n",
            "only showing top 20 rows\n",
            "\n"
          ]
        }
      ],
      "source": [
        "df.select('gender','smoking_status').show()"
      ],
      "id": "CtOAzFAAz5uJ"
    },
    {
      "cell_type": "code",
      "source": [
        "df.printSchema()"
      ],
      "metadata": {
        "colab": {
          "base_uri": "https://localhost:8080/"
        },
        "id": "itWJ_T6Ga62O",
        "outputId": "c56af1df-9bcb-4850-cd98-336a0a27920d"
      },
      "id": "itWJ_T6Ga62O",
      "execution_count": 25,
      "outputs": [
        {
          "output_type": "stream",
          "name": "stdout",
          "text": [
            "root\n",
            " |-- id: integer (nullable = true)\n",
            " |-- gender: integer (nullable = false)\n",
            " |-- age: double (nullable = true)\n",
            " |-- hypertension: integer (nullable = true)\n",
            " |-- heart_disease: integer (nullable = true)\n",
            " |-- ever_married: string (nullable = true)\n",
            " |-- work_type: string (nullable = true)\n",
            " |-- Residence_type: string (nullable = true)\n",
            " |-- avg_glucose_level: double (nullable = true)\n",
            " |-- bmi: double (nullable = true)\n",
            " |-- smoking_status: double (nullable = true)\n",
            " |-- stroke: integer (nullable = true)\n",
            "\n"
          ]
        }
      ]
    },
    {
      "cell_type": "markdown",
      "metadata": {
        "id": "89ce3b77"
      },
      "source": [
        "### Deal with null value according to your data analysis."
      ],
      "id": "89ce3b77"
    },
    {
      "cell_type": "code",
      "execution_count": 26,
      "metadata": {
        "id": "4d78cb87",
        "colab": {
          "base_uri": "https://localhost:8080/"
        },
        "outputId": "f6a988e4-54a4-4d04-bd0d-486c494f0502"
      },
      "outputs": [
        {
          "output_type": "stream",
          "name": "stdout",
          "text": [
            "+---+------+---+------------+-------------+------------+---------+--------------+-----------------+---+--------------+------+\n",
            "| id|gender|age|hypertension|heart_disease|ever_married|work_type|Residence_type|avg_glucose_level|bmi|smoking_status|stroke|\n",
            "+---+------+---+------------+-------------+------------+---------+--------------+-----------------+---+--------------+------+\n",
            "|  0|     0|  0|           0|            0|           0|        0|             0|                0|195|             0|     0|\n",
            "+---+------+---+------------+-------------+------------+---------+--------------+-----------------+---+--------------+------+\n",
            "\n"
          ]
        }
      ],
      "source": [
        "from pyspark.sql.functions import isnan, when, count, col\n",
        "df.select([count(when(isnan(c) | col(c).isNull(), c)).alias(c) for c in df.columns]).show()"
      ],
      "id": "4d78cb87"
    },
    {
      "cell_type": "code",
      "execution_count": 27,
      "metadata": {
        "id": "CYsbFUxm2rbn"
      },
      "outputs": [],
      "source": [
        "from pyspark.ml.feature import *\n",
        "imputer = Imputer(inputCol=\"bmi\",strategy ='median',outputCol=\"bmi\")"
      ],
      "id": "CYsbFUxm2rbn"
    },
    {
      "cell_type": "code",
      "source": [
        "df=imputer.fit(df).transform(df)"
      ],
      "metadata": {
        "id": "pyULk-5tbrR0"
      },
      "id": "pyULk-5tbrR0",
      "execution_count": 28,
      "outputs": []
    },
    {
      "cell_type": "code",
      "source": [
        "from pyspark.sql.functions import isnan, when, count, col\n",
        "df.select([count(when(isnan(c) | col(c).isNull(), c)).alias(c) for c in df.columns]).show()"
      ],
      "metadata": {
        "colab": {
          "base_uri": "https://localhost:8080/"
        },
        "id": "p6zNP-2Zb0dC",
        "outputId": "d3046e5a-ae33-489c-9b48-08cfce7f4ab5"
      },
      "id": "p6zNP-2Zb0dC",
      "execution_count": 29,
      "outputs": [
        {
          "output_type": "stream",
          "name": "stdout",
          "text": [
            "+---+------+---+------------+-------------+------------+---------+--------------+-----------------+---+--------------+------+\n",
            "| id|gender|age|hypertension|heart_disease|ever_married|work_type|Residence_type|avg_glucose_level|bmi|smoking_status|stroke|\n",
            "+---+------+---+------------+-------------+------------+---------+--------------+-----------------+---+--------------+------+\n",
            "|  0|     0|  0|           0|            0|           0|        0|             0|                0|  0|             0|     0|\n",
            "+---+------+---+------------+-------------+------------+---------+--------------+-----------------+---+--------------+------+\n",
            "\n"
          ]
        }
      ]
    },
    {
      "cell_type": "markdown",
      "metadata": {
        "id": "053c429a"
      },
      "source": [
        "### Split the data into training and test dataframes:\n",
        "- 80% training and 20% test.\n",
        "- seed = 42.\n",
        "- Save each dataframe as a parquet file"
      ],
      "id": "053c429a"
    },
    {
      "cell_type": "code",
      "execution_count": 30,
      "metadata": {
        "id": "0236ea8b",
        "colab": {
          "base_uri": "https://localhost:8080/"
        },
        "outputId": "31adbbd0-bfb5-48ee-be42-9cbfc91b5475"
      },
      "outputs": [
        {
          "output_type": "stream",
          "name": "stdout",
          "text": [
            "There are 4037 rows in the training set, and 953 in the test set\n"
          ]
        }
      ],
      "source": [
        "trainDF, testDF = df.randomSplit([.8,.2],seed=42)\n",
        "print(f\"There are {trainDF.count()} rows in the training set, and {testDF.count()} in the test set\")"
      ],
      "id": "0236ea8b"
    },
    {
      "cell_type": "code",
      "source": [
        "# trainDF.write.parquet(\"trainDF.parquet\")\n",
        "# testDF.write.parquet(\"testDF.parquet\")"
      ],
      "metadata": {
        "id": "wVR7aab3cNVs"
      },
      "id": "wVR7aab3cNVs",
      "execution_count": 32,
      "outputs": []
    },
    {
      "cell_type": "markdown",
      "metadata": {
        "id": "987b4b40"
      },
      "source": [
        "### Create the model:\n",
        "- Perform feature engineering steps.\n",
        "- Create the logistic regression classifier.\n",
        "- Build the pipeline model that uses all feature engineering steps and the model.\n",
        "- Train the pipeline model using the trainig dataset."
      ],
      "id": "987b4b40"
    },
    {
      "cell_type": "code",
      "execution_count": 33,
      "metadata": {
        "id": "3278e362"
      },
      "outputs": [],
      "source": [
        "from pyspark.ml.feature import StringIndexer, OneHotEncoder\n",
        "from pyspark.ml.feature import VectorAssembler\n",
        "from pyspark.ml.classification import LogisticRegression\n",
        "from pyspark.ml import Pipeline"
      ],
      "id": "3278e362"
    },
    {
      "cell_type": "code",
      "execution_count": 34,
      "metadata": {
        "id": "4e41b352",
        "colab": {
          "base_uri": "https://localhost:8080/"
        },
        "outputId": "d6da82b6-1127-470a-96f6-91c2de9641ca"
      },
      "outputs": [
        {
          "output_type": "execute_result",
          "data": {
            "text/plain": [
              "[('id', 'int'),\n",
              " ('gender', 'int'),\n",
              " ('age', 'double'),\n",
              " ('hypertension', 'int'),\n",
              " ('heart_disease', 'int'),\n",
              " ('ever_married', 'string'),\n",
              " ('work_type', 'string'),\n",
              " ('Residence_type', 'string'),\n",
              " ('avg_glucose_level', 'double'),\n",
              " ('bmi', 'double'),\n",
              " ('smoking_status', 'double'),\n",
              " ('stroke', 'int')]"
            ]
          },
          "metadata": {},
          "execution_count": 34
        }
      ],
      "source": [
        "trainDF.dtypes"
      ],
      "id": "4e41b352"
    },
    {
      "cell_type": "code",
      "execution_count": 35,
      "metadata": {
        "id": "Ix_s-RqE9Mcm"
      },
      "outputs": [],
      "source": [
        "categoricalCols = [field for (field, dataType) in trainDF.dtypes\n",
        "                  if dataType == 'string']"
      ],
      "id": "Ix_s-RqE9Mcm"
    },
    {
      "cell_type": "code",
      "execution_count": 36,
      "metadata": {
        "colab": {
          "base_uri": "https://localhost:8080/"
        },
        "id": "_hVIWByh9MUx",
        "outputId": "2b5ba08a-22f6-44d1-c226-93dcc4089e83"
      },
      "outputs": [
        {
          "output_type": "execute_result",
          "data": {
            "text/plain": [
              "['ever_married', 'work_type', 'Residence_type']"
            ]
          },
          "metadata": {},
          "execution_count": 36
        }
      ],
      "source": [
        "categoricalCols"
      ],
      "id": "_hVIWByh9MUx"
    },
    {
      "cell_type": "code",
      "execution_count": 37,
      "metadata": {
        "id": "1Khci0_M9MMd",
        "colab": {
          "base_uri": "https://localhost:8080/"
        },
        "outputId": "66fcdb3d-2ca7-4442-9dc8-261dba77ba74"
      },
      "outputs": [
        {
          "output_type": "execute_result",
          "data": {
            "text/plain": [
              "['ever_married_Index', 'work_type_Index', 'Residence_type_Index']"
            ]
          },
          "metadata": {},
          "execution_count": 37
        }
      ],
      "source": [
        "indexOutputCols = [x + \"_Index\" for x in categoricalCols]\n",
        "indexOutputCols"
      ],
      "id": "1Khci0_M9MMd"
    },
    {
      "cell_type": "code",
      "execution_count": 38,
      "metadata": {
        "id": "LPD7wa-69L_E",
        "colab": {
          "base_uri": "https://localhost:8080/"
        },
        "outputId": "cb67a7f6-9b49-42df-b9a8-5e773e3fc58e"
      },
      "outputs": [
        {
          "output_type": "execute_result",
          "data": {
            "text/plain": [
              "['ever_married_OHE', 'work_type_OHE', 'Residence_type_OHE']"
            ]
          },
          "metadata": {},
          "execution_count": 38
        }
      ],
      "source": [
        "oheOutputCols = [x + \"_OHE\" for x in categoricalCols]\n",
        "oheOutputCols"
      ],
      "id": "LPD7wa-69L_E"
    },
    {
      "cell_type": "code",
      "execution_count": 39,
      "metadata": {
        "id": "106453d7"
      },
      "outputs": [],
      "source": [
        "stringIndexer = StringIndexer(inputCols=categoricalCols,\n",
        "                              outputCols=indexOutputCols,\n",
        "                             handleInvalid='skip')"
      ],
      "id": "106453d7"
    },
    {
      "cell_type": "code",
      "execution_count": 40,
      "metadata": {
        "id": "LO2WuDev8Vod"
      },
      "outputs": [],
      "source": [
        "oheEncoder = OneHotEncoder(inputCols=indexOutputCols,\n",
        "                          outputCols=oheOutputCols)"
      ],
      "id": "LO2WuDev8Vod"
    },
    {
      "cell_type": "code",
      "execution_count": 41,
      "metadata": {
        "id": "TX2o8Qiv8V-x",
        "colab": {
          "base_uri": "https://localhost:8080/"
        },
        "outputId": "05b937bf-bec3-4d52-f058-08a59154e3d3"
      },
      "outputs": [
        {
          "output_type": "execute_result",
          "data": {
            "text/plain": [
              "['gender',\n",
              " 'age',\n",
              " 'hypertension',\n",
              " 'heart_disease',\n",
              " 'avg_glucose_level',\n",
              " 'bmi',\n",
              " 'smoking_status']"
            ]
          },
          "metadata": {},
          "execution_count": 41
        }
      ],
      "source": [
        "numericCols = [field for (field,dataType) in trainDF.dtypes\n",
        "              if ((dataType!='string')&(field!='stroke')&(field!='id'))]\n",
        "numericCols"
      ],
      "id": "TX2o8Qiv8V-x"
    },
    {
      "cell_type": "code",
      "source": [
        "assemblerInputs = oheOutputCols + numericCols\n",
        "assemblerInputs"
      ],
      "metadata": {
        "colab": {
          "base_uri": "https://localhost:8080/"
        },
        "id": "NuXxQzzQc5Do",
        "outputId": "4491f3ef-9f58-453a-e8c9-0d4951fe06bf"
      },
      "id": "NuXxQzzQc5Do",
      "execution_count": 42,
      "outputs": [
        {
          "output_type": "execute_result",
          "data": {
            "text/plain": [
              "['ever_married_OHE',\n",
              " 'work_type_OHE',\n",
              " 'Residence_type_OHE',\n",
              " 'gender',\n",
              " 'age',\n",
              " 'hypertension',\n",
              " 'heart_disease',\n",
              " 'avg_glucose_level',\n",
              " 'bmi',\n",
              " 'smoking_status']"
            ]
          },
          "metadata": {},
          "execution_count": 42
        }
      ]
    },
    {
      "cell_type": "code",
      "source": [
        "vecAssembler = VectorAssembler(inputCols=assemblerInputs,outputCol='features')"
      ],
      "metadata": {
        "id": "f0SNoHKmc5F8"
      },
      "id": "f0SNoHKmc5F8",
      "execution_count": 43,
      "outputs": []
    },
    {
      "cell_type": "code",
      "source": [
        "lr = LogisticRegression(featuresCol='features',\n",
        "                      labelCol='stroke',\n",
        "                      predictionCol='prediction')"
      ],
      "metadata": {
        "id": "50B4zLY-c5IO"
      },
      "id": "50B4zLY-c5IO",
      "execution_count": 44,
      "outputs": []
    },
    {
      "cell_type": "code",
      "source": [
        "pipeline = Pipeline(stages=[stringIndexer,oheEncoder,\n",
        "                           vecAssembler,lr])"
      ],
      "metadata": {
        "id": "5o9auulVc5KX"
      },
      "id": "5o9auulVc5KX",
      "execution_count": 45,
      "outputs": []
    },
    {
      "cell_type": "code",
      "source": [
        "pipelineModel = pipeline.fit(trainDF)"
      ],
      "metadata": {
        "id": "inM5QkfJc5My"
      },
      "id": "inM5QkfJc5My",
      "execution_count": 46,
      "outputs": []
    },
    {
      "cell_type": "markdown",
      "metadata": {
        "id": "a05c2677"
      },
      "source": [
        "### Perform predictions on tests dataframe:\n",
        "- Test the model using the test dataframe\n",
        "- Select and show the feature column.\n",
        "- Print the schema of the output dataframe.\n",
        "- Select and show both prediction and label columns.\n",
        "- Explore the results for the label column stroke=1. i.e. select both columns (prediction,stroke) for stroke=1.<b>notice the result.</b> \n",
        "- Count the predicted 1 and 0 values.<b>notice the result.</b>   "
      ],
      "id": "a05c2677"
    },
    {
      "cell_type": "code",
      "source": [
        "predDF = pipelineModel.transform(testDF)"
      ],
      "metadata": {
        "id": "bmnjLNERc5O4"
      },
      "id": "bmnjLNERc5O4",
      "execution_count": 47,
      "outputs": []
    },
    {
      "cell_type": "code",
      "execution_count": 48,
      "metadata": {
        "id": "ZmaJdlFS8Uj-",
        "colab": {
          "base_uri": "https://localhost:8080/"
        },
        "outputId": "2df87c73-5702-40d5-8fba-af58ac61aeaa"
      },
      "outputs": [
        {
          "output_type": "stream",
          "name": "stdout",
          "text": [
            "+--------------------+\n",
            "|            features|\n",
            "+--------------------+\n",
            "|(13,[0,1,5,6,7,10...|\n",
            "|(13,[1,5,7,10,11]...|\n",
            "|(13,[0,1,7,10,11]...|\n",
            "|(13,[0,1,7,10,11,...|\n",
            "|(13,[0,1,5,6,7,10...|\n",
            "|(13,[0,1,7,10,11]...|\n",
            "|(13,[0,2,6,7,8,10...|\n",
            "|(13,[0,2,5,7,10,1...|\n",
            "|(13,[4,7,10,11,12...|\n",
            "|(13,[0,1,6,7,10,1...|\n",
            "|(13,[0,3,6,7,10,1...|\n",
            "|(13,[1,7,8,9,10,1...|\n",
            "|(13,[1,6,7,10,11]...|\n",
            "|(13,[0,2,7,10,11,...|\n",
            "|(13,[0,1,7,8,10,1...|\n",
            "|(13,[0,3,5,7,10,1...|\n",
            "|(13,[1,5,7,10,11]...|\n",
            "|[1.0,1.0,0.0,0.0,...|\n",
            "|[1.0,0.0,0.0,1.0,...|\n",
            "|(13,[1,5,7,10,11]...|\n",
            "+--------------------+\n",
            "only showing top 20 rows\n",
            "\n"
          ]
        }
      ],
      "source": [
        "predDF.select('features').show()"
      ],
      "id": "ZmaJdlFS8Uj-"
    },
    {
      "cell_type": "code",
      "execution_count": 49,
      "metadata": {
        "colab": {
          "base_uri": "https://localhost:8080/"
        },
        "id": "d772bef6",
        "outputId": "88914d67-d9fb-48b7-f495-4458ff067a66"
      },
      "outputs": [
        {
          "output_type": "stream",
          "name": "stdout",
          "text": [
            "root\n",
            " |-- id: integer (nullable = true)\n",
            " |-- gender: integer (nullable = false)\n",
            " |-- age: double (nullable = true)\n",
            " |-- hypertension: integer (nullable = true)\n",
            " |-- heart_disease: integer (nullable = true)\n",
            " |-- ever_married: string (nullable = true)\n",
            " |-- work_type: string (nullable = true)\n",
            " |-- Residence_type: string (nullable = true)\n",
            " |-- avg_glucose_level: double (nullable = true)\n",
            " |-- bmi: double (nullable = true)\n",
            " |-- smoking_status: double (nullable = true)\n",
            " |-- stroke: integer (nullable = true)\n",
            " |-- ever_married_Index: double (nullable = false)\n",
            " |-- work_type_Index: double (nullable = false)\n",
            " |-- Residence_type_Index: double (nullable = false)\n",
            " |-- ever_married_OHE: vector (nullable = true)\n",
            " |-- work_type_OHE: vector (nullable = true)\n",
            " |-- Residence_type_OHE: vector (nullable = true)\n",
            " |-- features: vector (nullable = true)\n",
            " |-- rawPrediction: vector (nullable = true)\n",
            " |-- probability: vector (nullable = true)\n",
            " |-- prediction: double (nullable = false)\n",
            "\n"
          ]
        }
      ],
      "source": [
        "predDF.printSchema()"
      ],
      "id": "d772bef6"
    },
    {
      "cell_type": "code",
      "execution_count": 50,
      "metadata": {
        "id": "3ea267eb",
        "colab": {
          "base_uri": "https://localhost:8080/"
        },
        "outputId": "a1d0ca1c-f4f5-4cdf-dd92-bcdd12c12f3d"
      },
      "outputs": [
        {
          "output_type": "stream",
          "name": "stdout",
          "text": [
            "+------+----------+\n",
            "|stroke|prediction|\n",
            "+------+----------+\n",
            "|     0|       0.0|\n",
            "|     0|       0.0|\n",
            "|     0|       0.0|\n",
            "|     0|       0.0|\n",
            "|     0|       0.0|\n",
            "|     0|       0.0|\n",
            "|     0|       0.0|\n",
            "|     1|       0.0|\n",
            "|     0|       0.0|\n",
            "|     0|       0.0|\n",
            "|     0|       0.0|\n",
            "|     1|       0.0|\n",
            "|     0|       0.0|\n",
            "|     0|       0.0|\n",
            "|     0|       0.0|\n",
            "|     0|       0.0|\n",
            "|     0|       0.0|\n",
            "|     0|       0.0|\n",
            "|     0|       0.0|\n",
            "|     0|       0.0|\n",
            "+------+----------+\n",
            "only showing top 20 rows\n",
            "\n"
          ]
        }
      ],
      "source": [
        "predDF.select('stroke','prediction').show()"
      ],
      "id": "3ea267eb"
    },
    {
      "cell_type": "code",
      "execution_count": 51,
      "metadata": {
        "id": "480d892e",
        "scrolled": false
      },
      "outputs": [],
      "source": [
        "DfStroke1 = predDF.filter('stroke == 1')"
      ],
      "id": "480d892e"
    },
    {
      "cell_type": "code",
      "source": [
        "DfStroke1.show()"
      ],
      "metadata": {
        "colab": {
          "base_uri": "https://localhost:8080/"
        },
        "id": "oP3kXRNhfDyV",
        "outputId": "129cbe4f-5c2e-4917-f2bb-60249b47d06a"
      },
      "id": "oP3kXRNhfDyV",
      "execution_count": 52,
      "outputs": [
        {
          "output_type": "stream",
          "name": "stdout",
          "text": [
            "+-----+------+----+------------+-------------+------------+-------------+--------------+-----------------+----+--------------+------+------------------+---------------+--------------------+----------------+-------------+------------------+--------------------+--------------------+--------------------+----------+\n",
            "|   id|gender| age|hypertension|heart_disease|ever_married|    work_type|Residence_type|avg_glucose_level| bmi|smoking_status|stroke|ever_married_Index|work_type_Index|Residence_type_Index|ever_married_OHE|work_type_OHE|Residence_type_OHE|            features|       rawPrediction|         probability|prediction|\n",
            "+-----+------+----+------------+-------------+------------+-------------+--------------+-----------------+----+--------------+------+------------------+---------------+--------------------+----------------+-------------+------------------+--------------------+--------------------+--------------------+----------+\n",
            "|  491|     0|74.0|           0|            0|         Yes|Self-employed|         Urban|            74.96|26.6|           0.0|     1|               0.0|            1.0|                 0.0|   (1,[0],[1.0])|(4,[1],[1.0])|     (1,[0],[1.0])|(13,[0,2,5,7,10,1...|[2.47173594226585...|[0.92213649824775...|       0.0|\n",
            "|  712|     0|82.0|           1|            1|          No|      Private|         Rural|            84.03|26.5|          0.75|     1|               1.0|            0.0|                 1.0|       (1,[],[])|(4,[0],[1.0])|         (1,[],[])|(13,[1,7,8,9,10,1...|[0.50740831613216...|[0.62419872702856...|       0.0|\n",
            "| 8003|     0|77.0|           0|            0|          No|      Private|         Urban|            81.32|28.2|           0.5|     1|               1.0|            0.0|                 0.0|       (1,[],[])|(4,[0],[1.0])|     (1,[0],[1.0])|(13,[1,5,7,10,11,...|[1.49157892117211...|[0.81631514174302...|       0.0|\n",
            "| 8045|     0|74.0|           1|            0|         Yes|      Private|         Urban|            70.28|21.8|           0.0|     1|               0.0|            0.0|                 0.0|   (1,[0],[1.0])|(4,[0],[1.0])|     (1,[0],[1.0])|(13,[0,1,5,7,8,10...|[1.66306322537551...|[0.84064877617502...|       0.0|\n",
            "|11933|     0|79.0|           0|            0|         Yes|      Private|         Rural|           169.67|28.2|           0.5|     1|               0.0|            0.0|                 1.0|   (1,[0],[1.0])|(4,[0],[1.0])|         (1,[],[])|(13,[0,1,7,10,11,...|[1.17664499788983...|[0.76434402932673...|       0.0|\n",
            "|12363|     1|64.0|           0|            1|         Yes|     Govt_job|         Urban|             74.1|28.8|           0.5|     1|               0.0|            2.0|                 0.0|   (1,[0],[1.0])|(4,[2],[1.0])|     (1,[0],[1.0])|[1.0,0.0,0.0,1.0,...|[2.66552539159997...|[0.93496146606110...|       0.0|\n",
            "|14164|     0|72.0|           0|            0|         Yes|      Private|         Urban|           219.91|28.2|           0.5|     1|               0.0|            0.0|                 0.0|   (1,[0],[1.0])|(4,[0],[1.0])|     (1,[0],[1.0])|(13,[0,1,5,7,10,1...|[1.37143999927970...|[0.79761270749013...|       0.0|\n",
            "|16077|     1|63.0|           0|            1|         Yes|Self-employed|         Urban|           116.69|34.5|          0.75|     1|               0.0|            1.0|                 0.0|   (1,[0],[1.0])|(4,[1],[1.0])|     (1,[0],[1.0])|[1.0,0.0,1.0,0.0,...|[2.68643335156596...|[0.93622134479630...|       0.0|\n",
            "|17739|     1|57.0|           0|            0|         Yes|      Private|         Rural|            84.96|36.7|           0.5|     1|               0.0|            0.0|                 1.0|   (1,[0],[1.0])|(4,[0],[1.0])|         (1,[],[])|(13,[0,1,6,7,10,1...|[3.21570092308897...|[0.96142087432544...|       0.0|\n",
            "|24669|     0|77.0|           0|            1|         Yes|      Private|         Rural|           231.56|36.9|           0.0|     1|               0.0|            0.0|                 1.0|   (1,[0],[1.0])|(4,[0],[1.0])|         (1,[],[])|(13,[0,1,7,9,10,1...|[1.19043453777862...|[0.76681877195638...|       0.0|\n",
            "|27153|     0|75.0|           0|            0|         Yes|Self-employed|         Rural|             78.8|29.3|          0.75|     1|               0.0|            1.0|                 1.0|   (1,[0],[1.0])|(4,[1],[1.0])|         (1,[],[])|(13,[0,2,7,10,11,...|[2.12458971843477...|[0.89327029674703...|       0.0|\n",
            "|27419|     0|59.0|           0|            0|         Yes|      Private|         Rural|            76.15|28.2|           0.5|     1|               0.0|            0.0|                 1.0|   (1,[0],[1.0])|(4,[0],[1.0])|         (1,[],[])|(13,[0,1,7,10,11,...|[3.04893033134446...|[0.95473632339660...|       0.0|\n",
            "|28484|     0|78.0|           0|            0|         Yes|Self-employed|         Rural|           109.47|30.8|           0.0|     1|               0.0|            1.0|                 1.0|   (1,[0],[1.0])|(4,[1],[1.0])|         (1,[],[])|(13,[0,2,7,10,11]...|[2.11378328815325...|[0.89223564111749...|       0.0|\n",
            "|31112|     1|80.0|           0|            1|         Yes|      Private|         Rural|           105.92|32.5|           0.0|     1|               0.0|            0.0|                 1.0|   (1,[0],[1.0])|(4,[0],[1.0])|         (1,[],[])|(13,[0,1,6,7,9,10...|[1.57612382851385...|[0.82865485686481...|       0.0|\n",
            "|31179|     1|63.0|           0|            0|         Yes|      Private|         Urban|           208.65|30.7|           0.0|     1|               0.0|            0.0|                 0.0|   (1,[0],[1.0])|(4,[0],[1.0])|     (1,[0],[1.0])|(13,[0,1,5,6,7,10...|[2.34086213807462...|[0.91220515568661...|       0.0|\n",
            "|31421|     1|73.0|           0|            1|         Yes|     Govt_job|         Rural|           219.73|28.6|           0.0|     1|               0.0|            2.0|                 1.0|   (1,[0],[1.0])|(4,[2],[1.0])|         (1,[],[])|(13,[0,3,6,7,9,10...|[1.64360803589569...|[0.83802528576576...|       0.0|\n",
            "|35512|     0|70.0|           0|            0|         Yes|Self-employed|         Rural|            76.34|24.4|          0.75|     1|               0.0|            1.0|                 1.0|   (1,[0],[1.0])|(4,[1],[1.0])|         (1,[],[])|(13,[0,2,7,10,11,...|[2.47763113412687...|[0.92255872563542...|       0.0|\n",
            "|35578|     1|78.0|           0|            0|          No|Self-employed|         Urban|            90.19|26.9|           0.0|     1|               1.0|            1.0|                 0.0|       (1,[],[])|(4,[1],[1.0])|     (1,[0],[1.0])|(13,[2,5,6,7,10,1...|[1.98286223322300...|[0.87898594726594...|       0.0|\n",
            "|35626|     1|81.0|           0|            0|         Yes|Self-employed|         Urban|            99.33|33.7|           0.0|     1|               0.0|            1.0|                 0.0|   (1,[0],[1.0])|(4,[1],[1.0])|     (1,[0],[1.0])|(13,[0,2,5,6,7,10...|[1.91421454257570...|[0.87149188984743...|       0.0|\n",
            "|35684|     1|69.0|           0|            0|         Yes|      Private|         Rural|            93.81|28.5|           0.5|     1|               0.0|            0.0|                 1.0|   (1,[0],[1.0])|(4,[0],[1.0])|         (1,[],[])|(13,[0,1,6,7,10,1...|[2.28231931110989...|[0.90740210779631...|       0.0|\n",
            "+-----+------+----+------------+-------------+------------+-------------+--------------+-----------------+----+--------------+------+------------------+---------------+--------------------+----------------+-------------+------------------+--------------------+--------------------+--------------------+----------+\n",
            "only showing top 20 rows\n",
            "\n"
          ]
        }
      ]
    },
    {
      "cell_type": "code",
      "source": [
        "DfStroke1.select('stroke','prediction').show()"
      ],
      "metadata": {
        "colab": {
          "base_uri": "https://localhost:8080/"
        },
        "id": "GxJpgdYKfD0u",
        "outputId": "04d72ad9-8301-43f7-900d-2b781d74e22a"
      },
      "id": "GxJpgdYKfD0u",
      "execution_count": 53,
      "outputs": [
        {
          "output_type": "stream",
          "name": "stdout",
          "text": [
            "+------+----------+\n",
            "|stroke|prediction|\n",
            "+------+----------+\n",
            "|     1|       0.0|\n",
            "|     1|       0.0|\n",
            "|     1|       0.0|\n",
            "|     1|       0.0|\n",
            "|     1|       0.0|\n",
            "|     1|       0.0|\n",
            "|     1|       0.0|\n",
            "|     1|       0.0|\n",
            "|     1|       0.0|\n",
            "|     1|       0.0|\n",
            "|     1|       0.0|\n",
            "|     1|       0.0|\n",
            "|     1|       0.0|\n",
            "|     1|       0.0|\n",
            "|     1|       0.0|\n",
            "|     1|       0.0|\n",
            "|     1|       0.0|\n",
            "|     1|       0.0|\n",
            "|     1|       0.0|\n",
            "|     1|       0.0|\n",
            "+------+----------+\n",
            "only showing top 20 rows\n",
            "\n"
          ]
        }
      ]
    },
    {
      "cell_type": "code",
      "source": [
        "## When stroke=1 the prediction=0"
      ],
      "metadata": {
        "id": "TexghrvlfSP4"
      },
      "id": "TexghrvlfSP4",
      "execution_count": 54,
      "outputs": []
    },
    {
      "cell_type": "code",
      "source": [
        "predDF.select('prediction').groupby('prediction').count().show()"
      ],
      "metadata": {
        "colab": {
          "base_uri": "https://localhost:8080/"
        },
        "id": "6OqrfXaZfeTY",
        "outputId": "7e054468-2397-459f-c0a1-e0540ead2be0"
      },
      "id": "6OqrfXaZfeTY",
      "execution_count": 55,
      "outputs": [
        {
          "output_type": "stream",
          "name": "stdout",
          "text": [
            "+----------+-----+\n",
            "|prediction|count|\n",
            "+----------+-----+\n",
            "|       0.0|  953|\n",
            "+----------+-----+\n",
            "\n"
          ]
        }
      ]
    },
    {
      "cell_type": "code",
      "source": [
        "#due to high imbalance the model only predicted the majority class"
      ],
      "metadata": {
        "id": "_jckog6nfpKf"
      },
      "id": "_jckog6nfpKf",
      "execution_count": 56,
      "outputs": []
    },
    {
      "cell_type": "markdown",
      "metadata": {
        "id": "daec120f"
      },
      "source": [
        "### Evaluate the model performance\n",
        "- Use <b>BinaryClassificationEvaluator</b>. This will calculate the <b>ROC</b>.\n",
        "- Set the parameters as follow:\n",
        "    - <b>rawPredictionCol='prediction'</b> and <b>labelCol='stroke'</b>"
      ],
      "id": "daec120f"
    },
    {
      "cell_type": "code",
      "execution_count": 57,
      "metadata": {
        "id": "a7b5ad25"
      },
      "outputs": [],
      "source": [
        "from pyspark.ml.evaluation import BinaryClassificationEvaluator"
      ],
      "id": "a7b5ad25"
    },
    {
      "cell_type": "code",
      "execution_count": 58,
      "metadata": {
        "id": "44d3a1e6"
      },
      "outputs": [],
      "source": [
        "Binary_Evaluator= BinaryClassificationEvaluator(rawPredictionCol='prediction',\n",
        "                                         labelCol='stroke',metricName='areaUnderROC')"
      ],
      "id": "44d3a1e6"
    },
    {
      "cell_type": "code",
      "execution_count": 59,
      "metadata": {
        "colab": {
          "base_uri": "https://localhost:8080/"
        },
        "id": "3adbe41f",
        "outputId": "7877b3f5-7550-4add-bfea-b4f531ec4aee"
      },
      "outputs": [
        {
          "output_type": "execute_result",
          "data": {
            "text/plain": [
              "0.5"
            ]
          },
          "metadata": {},
          "execution_count": 59
        }
      ],
      "source": [
        "Binary_Evaluator.evaluate(predDF)"
      ],
      "id": "3adbe41f"
    },
    {
      "cell_type": "code",
      "execution_count": 60,
      "metadata": {
        "id": "ZG4GZmGmK3kH"
      },
      "outputs": [],
      "source": [
        "#meaning the model almost has no predictive power"
      ],
      "id": "ZG4GZmGmK3kH"
    },
    {
      "cell_type": "code",
      "execution_count": 61,
      "metadata": {
        "id": "-BEKtVKQCzId"
      },
      "outputs": [],
      "source": [
        "count1=trainDF.select('stroke').groupby('stroke').count().filter('stroke==1').head()[1]\n",
        "count0=testDF.select('stroke').groupby('stroke').count().filter('stroke==0').head()[1]\n",
        "r1=count1/(count1+count0)\n",
        "r0=count0/(count1+count0)\n",
        "dic={0:r1,1:r0}"
      ],
      "id": "-BEKtVKQCzId"
    },
    {
      "cell_type": "code",
      "execution_count": 62,
      "metadata": {
        "id": "fT9XhQQTLBsB",
        "colab": {
          "base_uri": "https://localhost:8080/"
        },
        "outputId": "22558bce-6101-4ac7-c4e2-b0f81ba7872f"
      },
      "outputs": [
        {
          "output_type": "execute_result",
          "data": {
            "text/plain": [
              "{0: 0.18214607754733994, 1: 0.8178539224526601}"
            ]
          },
          "metadata": {},
          "execution_count": 62
        }
      ],
      "source": [
        "dic"
      ],
      "id": "fT9XhQQTLBsB"
    },
    {
      "cell_type": "code",
      "execution_count": 63,
      "metadata": {
        "id": "p21VxA15ClYR"
      },
      "outputs": [],
      "source": [
        "from pyspark.sql.functions import udf\n",
        "imbalance_weight=udf(lambda x :dic[x],DoubleType())\n",
        "trainDF2=trainDF.withColumn('weight',imbalance_weight('stroke'))"
      ],
      "id": "p21VxA15ClYR"
    },
    {
      "cell_type": "code",
      "execution_count": 64,
      "metadata": {
        "colab": {
          "base_uri": "https://localhost:8080/"
        },
        "id": "ShvTCRfULC80",
        "outputId": "7ec898eb-6002-4098-fda6-476103bccdad"
      },
      "outputs": [
        {
          "output_type": "stream",
          "name": "stdout",
          "text": [
            "+------+-------------------+\n",
            "|stroke|             weight|\n",
            "+------+-------------------+\n",
            "|     0|0.18214607754733994|\n",
            "|     0|0.18214607754733994|\n",
            "|     0|0.18214607754733994|\n",
            "|     0|0.18214607754733994|\n",
            "|     0|0.18214607754733994|\n",
            "|     0|0.18214607754733994|\n",
            "|     0|0.18214607754733994|\n",
            "|     0|0.18214607754733994|\n",
            "|     0|0.18214607754733994|\n",
            "|     0|0.18214607754733994|\n",
            "|     1| 0.8178539224526601|\n",
            "|     0|0.18214607754733994|\n",
            "|     0|0.18214607754733994|\n",
            "|     0|0.18214607754733994|\n",
            "|     0|0.18214607754733994|\n",
            "|     0|0.18214607754733994|\n",
            "|     0|0.18214607754733994|\n",
            "|     0|0.18214607754733994|\n",
            "|     0|0.18214607754733994|\n",
            "|     0|0.18214607754733994|\n",
            "+------+-------------------+\n",
            "only showing top 20 rows\n",
            "\n"
          ]
        }
      ],
      "source": [
        "trainDF2.select('stroke','weight').show()"
      ],
      "id": "ShvTCRfULC80"
    },
    {
      "cell_type": "code",
      "execution_count": 65,
      "metadata": {
        "id": "2zefx1oNDbxd"
      },
      "outputs": [],
      "source": [
        "lr2 = LogisticRegression(featuresCol='features',\n",
        "                      labelCol='stroke',\n",
        "                      predictionCol='prediction',\n",
        "                      maxIter=200,\n",
        "                      weightCol='weight')"
      ],
      "id": "2zefx1oNDbxd"
    },
    {
      "cell_type": "code",
      "execution_count": 66,
      "metadata": {
        "id": "IMKFek31Dbu3"
      },
      "outputs": [],
      "source": [
        "pipeline = Pipeline(stages=[stringIndexer,oheEncoder,\n",
        "                           vecAssembler,lr2])"
      ],
      "id": "IMKFek31Dbu3"
    },
    {
      "cell_type": "code",
      "execution_count": 67,
      "metadata": {
        "id": "HjST2YFADbsI"
      },
      "outputs": [],
      "source": [
        "pipelineModel = pipeline.fit(trainDF2)"
      ],
      "id": "HjST2YFADbsI"
    },
    {
      "cell_type": "code",
      "execution_count": 68,
      "metadata": {
        "id": "R5-RJZr7DbpZ"
      },
      "outputs": [],
      "source": [
        "predDF2 = pipelineModel.transform(testDF)"
      ],
      "id": "R5-RJZr7DbpZ"
    },
    {
      "cell_type": "code",
      "source": [
        "Binary_Evaluator= BinaryClassificationEvaluator(rawPredictionCol='prediction',\n",
        "                                         labelCol='stroke',metricName='areaUnderROC')"
      ],
      "metadata": {
        "id": "UKR_cdMEhCH_"
      },
      "id": "UKR_cdMEhCH_",
      "execution_count": 69,
      "outputs": []
    },
    {
      "cell_type": "code",
      "source": [
        "Binary_Evaluator.evaluate(predDF2)"
      ],
      "metadata": {
        "colab": {
          "base_uri": "https://localhost:8080/"
        },
        "id": "xxA-kOfAhHXY",
        "outputId": "520a3e86-3125-4129-b91e-ba096c9ef98e"
      },
      "id": "xxA-kOfAhHXY",
      "execution_count": 70,
      "outputs": [
        {
          "output_type": "execute_result",
          "data": {
            "text/plain": [
              "0.6045251905469538"
            ]
          },
          "metadata": {},
          "execution_count": 70
        }
      ]
    },
    {
      "cell_type": "code",
      "source": [
        ""
      ],
      "metadata": {
        "id": "xVyCh227hJD-"
      },
      "id": "xVyCh227hJD-",
      "execution_count": null,
      "outputs": []
    }
  ],
  "metadata": {
    "colab": {
      "name": "pyspark_healthcare_stroke_prediction_Mariam.ipynb",
      "provenance": [],
      "collapsed_sections": []
    },
    "kernelspec": {
      "display_name": "Python 3",
      "language": "python",
      "name": "python3"
    },
    "language_info": {
      "codemirror_mode": {
        "name": "ipython",
        "version": 3
      },
      "file_extension": ".py",
      "mimetype": "text/x-python",
      "name": "python",
      "nbconvert_exporter": "python",
      "pygments_lexer": "ipython3",
      "version": "3.8.5"
    }
  },
  "nbformat": 4,
  "nbformat_minor": 5
}